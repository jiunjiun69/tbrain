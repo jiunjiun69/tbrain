{
 "cells": [
  {
   "cell_type": "code",
   "execution_count": 1,
   "id": "d5911ab5-ae99-4d7a-a5c7-4d00b13588fa",
   "metadata": {},
   "outputs": [],
   "source": [
    "import numpy as np\n",
    "import pandas as pd"
   ]
  },
  {
   "cell_type": "code",
   "execution_count": 2,
   "id": "1dce0f50-6e37-4834-91f4-97e96fa3d7f6",
   "metadata": {},
   "outputs": [
    {
     "name": "stderr",
     "output_type": "stream",
     "text": [
      "Using TensorFlow backend.\n",
      "2021-11-12 02:51:50.897558: I tensorflow/stream_executor/platform/default/dso_loader.cc:49] Successfully opened dynamic library libcudart.so.10.1\n"
     ]
    }
   ],
   "source": [
    "from keras.models import Sequential\n",
    "from keras.layers import Dense\n",
    "from keras.layers import LSTM"
   ]
  },
  {
   "cell_type": "code",
   "execution_count": 3,
   "id": "922605b2-3287-4d8e-99ab-8c11e36f9b5b",
   "metadata": {},
   "outputs": [],
   "source": [
    "# 顯示所有列\n",
    "pd.set_option('display.max_columns', None)"
   ]
  },
  {
   "cell_type": "code",
   "execution_count": null,
   "id": "65b76529-d32a-4005-9b3e-1763a3d29303",
   "metadata": {},
   "outputs": [],
   "source": [
    "# 讀前處理過後的資料\n",
    "train = pd.read_csv('Processed_tbrain_training.csv')\n",
    "print(train.shape)\n",
    "print(train.info())\n",
    "train.head(5)"
   ]
  },
  {
   "cell_type": "code",
   "execution_count": null,
   "id": "49d43122-2e2b-40ae-b7d0-39af67f9cb5b",
   "metadata": {},
   "outputs": [],
   "source": [
    "# 先取出每個顧客不重複最後一個月的值之後預測用\n",
    "pre_train = train.drop_duplicates(subset=['chid'], keep='last')\n",
    "pre_train"
   ]
  },
  {
   "cell_type": "code",
   "execution_count": null,
   "id": "f87522ce-0de8-4346-9a2d-f4d9f94d1125",
   "metadata": {},
   "outputs": [],
   "source": [
    "# 去除shop_tag\n",
    "pre_train.drop(columns = ['shop_tag'], axis=1, inplace=True)"
   ]
  },
  {
   "cell_type": "code",
   "execution_count": null,
   "id": "fb3142d7-11e0-40db-a2e8-93bb7c57666f",
   "metadata": {},
   "outputs": [],
   "source": [
    "len(pre_train)"
   ]
  },
  {
   "cell_type": "code",
   "execution_count": null,
   "id": "0ca56295-af01-45c8-b7f1-8dc73b10356f",
   "metadata": {},
   "outputs": [],
   "source": [
    "predict = pd.DataFrame(pd.read_csv('需預測的顧客名單及提交檔案範例.csv'))\n",
    "predict = predict.drop(columns = ['top1','top2','top3'])\n",
    "print(predict.shape)\n",
    "print(predict.info())\n",
    "predict.head(5)"
   ]
  },
  {
   "cell_type": "code",
   "execution_count": null,
   "id": "6a6e27fe-4475-41d4-b2c6-3f3fb4fc0150",
   "metadata": {},
   "outputs": [],
   "source": [
    "# 按照要提交的檔案排序\n",
    "pre_train = pre_train.set_index('chid', drop= False)\n",
    "pre_train = pre_train.loc[predict.chid]\n",
    "pre_train.head(5)"
   ]
  },
  {
   "cell_type": "code",
   "execution_count": null,
   "id": "9917dbf1-46ed-4a52-a222-c7be07ceb847",
   "metadata": {},
   "outputs": [],
   "source": [
    "# 拆分測試訓練集\n",
    "from sklearn.model_selection import train_test_split\n",
    "train, test = train_test_split(train, test_size=0.2, random_state=42)"
   ]
  },
  {
   "cell_type": "code",
   "execution_count": null,
   "id": "bb36099d-5caf-444e-bcb7-031b1c8a1d95",
   "metadata": {},
   "outputs": [],
   "source": [
    "target_column_train = ['shop_tag']\n",
    "predictors_train = list(set(list(train.columns))-set(target_column_train))\n",
    "\n",
    "X_train = train[predictors_train].values\n",
    "y_train = train[target_column_train].values\n",
    "\n",
    "print(X_train.shape)\n",
    "print(y_train.shape)"
   ]
  },
  {
   "cell_type": "code",
   "execution_count": null,
   "id": "e945568e-e0a9-4133-b507-b48953a32114",
   "metadata": {},
   "outputs": [],
   "source": [
    "target_column_test = ['shop_tag'] \n",
    "predictors_test = list(set(list(test.columns))-set(target_column_test))\n",
    "\n",
    "X_test = test[predictors_test].values\n",
    "y_test = test[target_column_test].values\n",
    "\n",
    "print(X_test.shape)\n",
    "print(y_test.shape)"
   ]
  },
  {
   "cell_type": "code",
   "execution_count": null,
   "id": "5c318cae-9e7c-4bae-bbf1-d597fb20bfc4",
   "metadata": {},
   "outputs": [],
   "source": [
    "import gc\n",
    "del train\n",
    "del test\n",
    "gc.collect()"
   ]
  },
  {
   "cell_type": "code",
   "execution_count": null,
   "id": "ef860621-3f9e-4d0c-adc7-72f99dffce5f",
   "metadata": {},
   "outputs": [],
   "source": [
    "model = Sequential()\n",
    "model.add(LSTM(units=50, return_sequences=True, input_shape=(X_train.shape[1],1)))\n",
    "model.add(LSTM(units=50))\n",
    "model.add(Dense(49, activation='softmax'))\n",
    "model.compile(loss='sparse_categorical_crossentropy', optimizer='adam', metrics=['accuracy'])"
   ]
  },
  {
   "cell_type": "code",
   "execution_count": null,
   "id": "d0ce05b0-b4ee-4c26-a7f7-c8284c36d0d8",
   "metadata": {},
   "outputs": [],
   "source": [
    "import tensorflow as tf \n",
    "model.fit(X_train[0:1000000], y_train[0:1000000], epochs=2, batch_size=1, verbose=2)"
   ]
  },
  {
   "cell_type": "code",
   "execution_count": null,
   "id": "23335f9e-c7aa-4b8c-8818-9dc94f170e92",
   "metadata": {},
   "outputs": [],
   "source": [
    "# 模型預測\n",
    "predictions = model.predict(pre_train)"
   ]
  },
  {
   "cell_type": "code",
   "execution_count": null,
   "id": "6815e81a-81a2-461e-b252-abe67458008f",
   "metadata": {},
   "outputs": [],
   "source": [
    "len(predictions)"
   ]
  },
  {
   "cell_type": "code",
   "execution_count": null,
   "id": "85eb5f86-e6c9-4773-b505-c51eff80b093",
   "metadata": {},
   "outputs": [],
   "source": [
    "len(predictions[0])"
   ]
  },
  {
   "cell_type": "code",
   "execution_count": null,
   "id": "45ef94de-bb27-439c-86a1-bae27b34f51b",
   "metadata": {},
   "outputs": [],
   "source": [
    "# 按降序獲取前 n 個結果\n",
    "best_n = np.argsort(-predictions, axis=1)[:, :49]\n",
    "best_n"
   ]
  },
  {
   "cell_type": "code",
   "execution_count": null,
   "id": "3e645e90-a495-483f-80ae-5c0fc4124803",
   "metadata": {},
   "outputs": [],
   "source": [
    "# 建立best_predictions_final來儲存前三高的預測值\n",
    "best_predictions_final = np.zeros((len(best_n), 3), dtype=int)"
   ]
  },
  {
   "cell_type": "code",
   "execution_count": null,
   "id": "97df3fde-9ffb-40bb-932f-99be9b80b49d",
   "metadata": {},
   "outputs": [],
   "source": [
    "# 過濾16個前三高的標籤出來\n",
    "for a in range(len(best_n)):\n",
    "    sum = 0\n",
    "    for i in range(49): \n",
    "        if (best_n[a, i] == [2,6,10,12,13,15,18,19,21,22,25,26,39,37,39,48]).any():\n",
    "            best_predictions_final[a, sum] = int(best_n[a, i])\n",
    "            sum += 1 \n",
    "        if sum == 3: \n",
    "            break"
   ]
  },
  {
   "cell_type": "code",
   "execution_count": null,
   "id": "e570b46c-3f07-4bc3-b9b2-4d655ed95acd",
   "metadata": {},
   "outputs": [],
   "source": [
    "submission = pd.DataFrame({ 'chid':predict.chid,'top1':best_predictions_final[0:len(best_predictions_final),0] , 'top2':best_predictions_final[0:len(best_predictions_final),1] , 'top3':best_predictions_final[0:len(best_predictions_final),2] })"
   ]
  },
  {
   "cell_type": "code",
   "execution_count": null,
   "id": "40f44f26-649a-4583-a127-de4aa3a6a150",
   "metadata": {},
   "outputs": [],
   "source": [
    "filename = 'submission.csv'\n",
    "submission.to_csv(filename,index=False)\n",
    "print(submission)\n",
    "print('Saved file: ' + filename)"
   ]
  },
  {
   "cell_type": "code",
   "execution_count": null,
   "id": "49f6629a-29bc-4659-a4ab-7cc6431bd720",
   "metadata": {},
   "outputs": [],
   "source": [
    "# # 保存模型\n",
    "# model.save('LSTM_model_200W-2.h5') "
   ]
  },
  {
   "cell_type": "code",
   "execution_count": null,
   "id": "7c3d6172-e514-4617-8bac-e5fc0397ea28",
   "metadata": {},
   "outputs": [],
   "source": []
  },
  {
   "cell_type": "code",
   "execution_count": null,
   "id": "24d68418-2551-40ad-897a-9b7e8be58d09",
   "metadata": {},
   "outputs": [],
   "source": []
  }
 ],
 "metadata": {
  "kernelspec": {
   "display_name": "Python 3 (ipykernel)",
   "language": "python",
   "name": "python3"
  },
  "language_info": {
   "codemirror_mode": {
    "name": "ipython",
    "version": 3
   },
   "file_extension": ".py",
   "mimetype": "text/x-python",
   "name": "python",
   "nbconvert_exporter": "python",
   "pygments_lexer": "ipython3",
   "version": "3.8.12"
  }
 },
 "nbformat": 4,
 "nbformat_minor": 5
}
