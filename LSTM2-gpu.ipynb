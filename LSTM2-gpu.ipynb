{
 "cells": [
  {
   "cell_type": "code",
   "execution_count": 1,
   "id": "557d098c-8877-4156-8f8d-f8436ad34177",
   "metadata": {},
   "outputs": [
    {
     "name": "stderr",
     "output_type": "stream",
     "text": [
      "2021-11-18 04:05:37.350609: I tensorflow/stream_executor/platform/default/dso_loader.cc:49] Successfully opened dynamic library libcudart.so.10.1\n"
     ]
    },
    {
     "name": "stdout",
     "output_type": "stream",
     "text": [
      "WARNING:tensorflow:From /tmp/ipykernel_2295233/634983112.py:4: The name tf.keras.backend.set_session is deprecated. Please use tf.compat.v1.keras.backend.set_session instead.\n",
      "\n"
     ]
    },
    {
     "name": "stderr",
     "output_type": "stream",
     "text": [
      "2021-11-18 04:05:45.180645: I tensorflow/core/platform/cpu_feature_guard.cc:142] This TensorFlow binary is optimized with oneAPI Deep Neural Network Library (oneDNN) to use the following CPU instructions in performance-critical operations:  SSE4.1 SSE4.2 AVX AVX2 FMA\n",
      "To enable them in other operations, rebuild TensorFlow with the appropriate compiler flags.\n",
      "2021-11-18 04:05:45.221249: I tensorflow/stream_executor/platform/default/dso_loader.cc:49] Successfully opened dynamic library libcuda.so.1\n",
      "2021-11-18 04:05:45.500473: I tensorflow/stream_executor/cuda/cuda_gpu_executor.cc:941] successful NUMA node read from SysFS had negative value (-1), but there must be at least one NUMA node, so returning NUMA node zero\n",
      "2021-11-18 04:05:45.500741: I tensorflow/core/common_runtime/gpu/gpu_device.cc:1720] Found device 0 with properties: \n",
      "pciBusID: 0000:01:00.0 name: GeForce GTX 1080 Ti computeCapability: 6.1\n",
      "coreClock: 1.683GHz coreCount: 28 deviceMemorySize: 10.91GiB deviceMemoryBandwidth: 451.17GiB/s\n",
      "2021-11-18 04:05:45.500851: I tensorflow/stream_executor/cuda/cuda_gpu_executor.cc:941] successful NUMA node read from SysFS had negative value (-1), but there must be at least one NUMA node, so returning NUMA node zero\n",
      "2021-11-18 04:05:45.501105: I tensorflow/core/common_runtime/gpu/gpu_device.cc:1720] Found device 1 with properties: \n",
      "pciBusID: 0000:09:00.0 name: GeForce GTX 1080 Ti computeCapability: 6.1\n",
      "coreClock: 1.683GHz coreCount: 28 deviceMemorySize: 10.92GiB deviceMemoryBandwidth: 451.17GiB/s\n",
      "2021-11-18 04:05:45.501129: I tensorflow/stream_executor/platform/default/dso_loader.cc:49] Successfully opened dynamic library libcudart.so.10.1\n",
      "2021-11-18 04:05:45.907448: I tensorflow/stream_executor/platform/default/dso_loader.cc:49] Successfully opened dynamic library libcublas.so.10\n",
      "2021-11-18 04:05:45.907698: I tensorflow/stream_executor/platform/default/dso_loader.cc:49] Successfully opened dynamic library libcublasLt.so.10\n",
      "2021-11-18 04:05:46.158980: I tensorflow/stream_executor/platform/default/dso_loader.cc:49] Successfully opened dynamic library libcufft.so.10\n",
      "2021-11-18 04:05:46.353644: I tensorflow/stream_executor/platform/default/dso_loader.cc:49] Successfully opened dynamic library libcurand.so.10\n",
      "2021-11-18 04:05:47.140246: I tensorflow/stream_executor/platform/default/dso_loader.cc:49] Successfully opened dynamic library libcusolver.so.10\n",
      "2021-11-18 04:05:47.308014: I tensorflow/stream_executor/platform/default/dso_loader.cc:49] Successfully opened dynamic library libcusparse.so.10\n",
      "2021-11-18 04:05:48.144484: I tensorflow/stream_executor/platform/default/dso_loader.cc:49] Successfully opened dynamic library libcudnn.so.7\n",
      "2021-11-18 04:05:48.144941: I tensorflow/stream_executor/cuda/cuda_gpu_executor.cc:941] successful NUMA node read from SysFS had negative value (-1), but there must be at least one NUMA node, so returning NUMA node zero\n",
      "2021-11-18 04:05:48.146177: I tensorflow/stream_executor/cuda/cuda_gpu_executor.cc:941] successful NUMA node read from SysFS had negative value (-1), but there must be at least one NUMA node, so returning NUMA node zero\n",
      "2021-11-18 04:05:48.147249: I tensorflow/stream_executor/cuda/cuda_gpu_executor.cc:941] successful NUMA node read from SysFS had negative value (-1), but there must be at least one NUMA node, so returning NUMA node zero\n",
      "2021-11-18 04:05:48.148254: I tensorflow/stream_executor/cuda/cuda_gpu_executor.cc:941] successful NUMA node read from SysFS had negative value (-1), but there must be at least one NUMA node, so returning NUMA node zero\n",
      "2021-11-18 04:05:48.149089: I tensorflow/core/common_runtime/gpu/gpu_device.cc:1862] Adding visible gpu devices: 0, 1\n",
      "2021-11-18 04:05:48.149262: I tensorflow/stream_executor/platform/default/dso_loader.cc:49] Successfully opened dynamic library libcudart.so.10.1\n",
      "2021-11-18 04:05:53.275634: I tensorflow/core/common_runtime/gpu/gpu_device.cc:1261] Device interconnect StreamExecutor with strength 1 edge matrix:\n",
      "2021-11-18 04:05:53.275659: I tensorflow/core/common_runtime/gpu/gpu_device.cc:1267]      0 1 \n",
      "2021-11-18 04:05:53.275665: I tensorflow/core/common_runtime/gpu/gpu_device.cc:1280] 0:   N Y \n",
      "2021-11-18 04:05:53.275669: I tensorflow/core/common_runtime/gpu/gpu_device.cc:1280] 1:   Y N \n",
      "2021-11-18 04:05:53.275872: I tensorflow/stream_executor/cuda/cuda_gpu_executor.cc:941] successful NUMA node read from SysFS had negative value (-1), but there must be at least one NUMA node, so returning NUMA node zero\n",
      "2021-11-18 04:05:53.276208: I tensorflow/stream_executor/cuda/cuda_gpu_executor.cc:941] successful NUMA node read from SysFS had negative value (-1), but there must be at least one NUMA node, so returning NUMA node zero\n",
      "2021-11-18 04:05:53.276483: I tensorflow/stream_executor/cuda/cuda_gpu_executor.cc:941] successful NUMA node read from SysFS had negative value (-1), but there must be at least one NUMA node, so returning NUMA node zero\n",
      "2021-11-18 04:05:53.276747: I tensorflow/stream_executor/cuda/cuda_gpu_executor.cc:941] successful NUMA node read from SysFS had negative value (-1), but there must be at least one NUMA node, so returning NUMA node zero\n",
      "2021-11-18 04:05:53.276989: I tensorflow/core/common_runtime/gpu/gpu_device.cc:1406] Created TensorFlow device (/job:localhost/replica:0/task:0/device:GPU:0 with 31 MB memory) -> physical GPU (device: 0, name: GeForce GTX 1080 Ti, pci bus id: 0000:01:00.0, compute capability: 6.1)\n",
      "2021-11-18 04:05:53.277445: I tensorflow/stream_executor/cuda/cuda_gpu_executor.cc:941] successful NUMA node read from SysFS had negative value (-1), but there must be at least one NUMA node, so returning NUMA node zero\n",
      "2021-11-18 04:05:53.277736: I tensorflow/stream_executor/cuda/cuda_gpu_executor.cc:941] successful NUMA node read from SysFS had negative value (-1), but there must be at least one NUMA node, so returning NUMA node zero\n",
      "2021-11-18 04:05:53.277976: I tensorflow/core/common_runtime/gpu/gpu_device.cc:1406] Created TensorFlow device (/job:localhost/replica:0/task:0/device:GPU:1 with 111 MB memory) -> physical GPU (device: 1, name: GeForce GTX 1080 Ti, pci bus id: 0000:09:00.0, compute capability: 6.1)\n",
      "2021-11-18 04:05:53.278260: I tensorflow/compiler/jit/xla_gpu_device.cc:99] Not creating XLA devices, tf_xla_enable_xla_devices not set\n"
     ]
    }
   ],
   "source": [
    "import tensorflow as tf\n",
    "config = tf.compat.v1.ConfigProto()\n",
    "config.gpu_options.allow_growth = True\n",
    "tf.compat.v1.keras.backend.set_session(tf.compat.v1.Session(config=config))"
   ]
  },
  {
   "cell_type": "code",
   "execution_count": 2,
   "id": "4e51e457-7385-4ca4-9e71-77e49fe36ab4",
   "metadata": {},
   "outputs": [
    {
     "name": "stderr",
     "output_type": "stream",
     "text": [
      "2021-11-18 04:05:53.282707: I tensorflow/compiler/jit/xla_cpu_device.cc:41] Not creating XLA devices, tf_xla_enable_xla_devices not set\n",
      "2021-11-18 04:05:53.282772: I tensorflow/stream_executor/cuda/cuda_gpu_executor.cc:941] successful NUMA node read from SysFS had negative value (-1), but there must be at least one NUMA node, so returning NUMA node zero\n",
      "2021-11-18 04:05:53.283045: I tensorflow/core/common_runtime/gpu/gpu_device.cc:1720] Found device 0 with properties: \n",
      "pciBusID: 0000:01:00.0 name: GeForce GTX 1080 Ti computeCapability: 6.1\n",
      "coreClock: 1.683GHz coreCount: 28 deviceMemorySize: 10.91GiB deviceMemoryBandwidth: 451.17GiB/s\n",
      "2021-11-18 04:05:53.283089: I tensorflow/stream_executor/cuda/cuda_gpu_executor.cc:941] successful NUMA node read from SysFS had negative value (-1), but there must be at least one NUMA node, so returning NUMA node zero\n",
      "2021-11-18 04:05:53.283278: I tensorflow/core/common_runtime/gpu/gpu_device.cc:1720] Found device 1 with properties: \n",
      "pciBusID: 0000:09:00.0 name: GeForce GTX 1080 Ti computeCapability: 6.1\n",
      "coreClock: 1.683GHz coreCount: 28 deviceMemorySize: 10.92GiB deviceMemoryBandwidth: 451.17GiB/s\n",
      "2021-11-18 04:05:53.283294: I tensorflow/stream_executor/platform/default/dso_loader.cc:49] Successfully opened dynamic library libcudart.so.10.1\n",
      "2021-11-18 04:05:53.283308: I tensorflow/stream_executor/platform/default/dso_loader.cc:49] Successfully opened dynamic library libcublas.so.10\n",
      "2021-11-18 04:05:53.283317: I tensorflow/stream_executor/platform/default/dso_loader.cc:49] Successfully opened dynamic library libcublasLt.so.10\n",
      "2021-11-18 04:05:53.283326: I tensorflow/stream_executor/platform/default/dso_loader.cc:49] Successfully opened dynamic library libcufft.so.10\n",
      "2021-11-18 04:05:53.283335: I tensorflow/stream_executor/platform/default/dso_loader.cc:49] Successfully opened dynamic library libcurand.so.10\n",
      "2021-11-18 04:05:53.283345: I tensorflow/stream_executor/platform/default/dso_loader.cc:49] Successfully opened dynamic library libcusolver.so.10\n",
      "2021-11-18 04:05:53.283354: I tensorflow/stream_executor/platform/default/dso_loader.cc:49] Successfully opened dynamic library libcusparse.so.10\n",
      "2021-11-18 04:05:53.283364: I tensorflow/stream_executor/platform/default/dso_loader.cc:49] Successfully opened dynamic library libcudnn.so.7\n",
      "2021-11-18 04:05:53.283399: I tensorflow/stream_executor/cuda/cuda_gpu_executor.cc:941] successful NUMA node read from SysFS had negative value (-1), but there must be at least one NUMA node, so returning NUMA node zero\n",
      "2021-11-18 04:05:53.283610: I tensorflow/stream_executor/cuda/cuda_gpu_executor.cc:941] successful NUMA node read from SysFS had negative value (-1), but there must be at least one NUMA node, so returning NUMA node zero\n",
      "2021-11-18 04:05:53.283824: I tensorflow/stream_executor/cuda/cuda_gpu_executor.cc:941] successful NUMA node read from SysFS had negative value (-1), but there must be at least one NUMA node, so returning NUMA node zero\n",
      "2021-11-18 04:05:53.284032: I tensorflow/stream_executor/cuda/cuda_gpu_executor.cc:941] successful NUMA node read from SysFS had negative value (-1), but there must be at least one NUMA node, so returning NUMA node zero\n",
      "2021-11-18 04:05:53.284215: I tensorflow/core/common_runtime/gpu/gpu_device.cc:1862] Adding visible gpu devices: 0, 1\n"
     ]
    }
   ],
   "source": [
    "gpu_devices = tf.config.experimental.list_physical_devices('GPU')\n",
    "for device in gpu_devices:\n",
    "    tf.config.experimental.set_memory_growth(device, True)"
   ]
  },
  {
   "cell_type": "code",
   "execution_count": 3,
   "id": "3333bc5b-d0d3-4be6-9373-679bda5684bf",
   "metadata": {},
   "outputs": [],
   "source": [
    "import numpy as np\n",
    "import pandas as pd"
   ]
  },
  {
   "cell_type": "code",
   "execution_count": 4,
   "id": "1dce0f50-6e37-4834-91f4-97e96fa3d7f6",
   "metadata": {},
   "outputs": [],
   "source": [
    "# from keras.models import Sequential\n",
    "# from keras.layers import Dense\n",
    "# from keras.layers import LSTM\n",
    "from tensorflow.keras.models import Sequential\n",
    "from tensorflow.keras.layers import Dense\n",
    "from tensorflow.keras.layers import LSTM\n",
    "from tensorflow.keras.layers import Dropout"
   ]
  },
  {
   "cell_type": "code",
   "execution_count": 5,
   "id": "922605b2-3287-4d8e-99ab-8c11e36f9b5b",
   "metadata": {},
   "outputs": [],
   "source": [
    "# 顯示所有列\n",
    "pd.set_option('display.max_columns', None)"
   ]
  },
  {
   "cell_type": "code",
   "execution_count": null,
   "id": "65b76529-d32a-4005-9b3e-1763a3d29303",
   "metadata": {},
   "outputs": [],
   "source": [
    "# 讀前處理過後的資料\n",
    "# train = pd.read_csv('Processed_tbrain_training.csv')\n",
    "\n",
    "# 讀合併完消費次數的看看會不會比較快\n",
    "train = pd.read_csv('Processed_tbrain_training.csv')\n",
    "print(train.shape)\n",
    "print(train.info())\n",
    "train.head(5)"
   ]
  },
  {
   "cell_type": "code",
   "execution_count": null,
   "id": "49d43122-2e2b-40ae-b7d0-39af67f9cb5b",
   "metadata": {},
   "outputs": [],
   "source": [
    "# 先取出每個顧客不重複最後一個月的值之後預測用\n",
    "pre_train = train.drop_duplicates(subset=['chid'], keep='last')\n",
    "pre_train"
   ]
  },
  {
   "cell_type": "code",
   "execution_count": null,
   "id": "f87522ce-0de8-4346-9a2d-f4d9f94d1125",
   "metadata": {},
   "outputs": [],
   "source": [
    "# 去除shop_tag\n",
    "pre_train.drop(columns = ['shop_tag'], axis=1, inplace=True)"
   ]
  },
  {
   "cell_type": "code",
   "execution_count": null,
   "id": "fb3142d7-11e0-40db-a2e8-93bb7c57666f",
   "metadata": {},
   "outputs": [],
   "source": [
    "len(pre_train)"
   ]
  },
  {
   "cell_type": "code",
   "execution_count": null,
   "id": "0ca56295-af01-45c8-b7f1-8dc73b10356f",
   "metadata": {},
   "outputs": [],
   "source": [
    "predict = pd.DataFrame(pd.read_csv('需預測的顧客名單及提交檔案範例.csv'))\n",
    "predict = predict.drop(columns = ['top1','top2','top3'])\n",
    "print(predict.shape)\n",
    "print(predict.info())\n",
    "predict.head(5)"
   ]
  },
  {
   "cell_type": "code",
   "execution_count": null,
   "id": "6a6e27fe-4475-41d4-b2c6-3f3fb4fc0150",
   "metadata": {},
   "outputs": [],
   "source": [
    "# 按照要提交的檔案排序\n",
    "pre_train = pre_train.set_index('chid', drop= False)\n",
    "pre_train = pre_train.loc[predict.chid]\n",
    "pre_train.head(5)"
   ]
  },
  {
   "cell_type": "code",
   "execution_count": null,
   "id": "9917dbf1-46ed-4a52-a222-c7be07ceb847",
   "metadata": {},
   "outputs": [],
   "source": [
    "# 拆分測試訓練集\n",
    "from sklearn.model_selection import train_test_split\n",
    "train, test = train_test_split(train, test_size=0.2, random_state=42)"
   ]
  },
  {
   "cell_type": "code",
   "execution_count": null,
   "id": "bb36099d-5caf-444e-bcb7-031b1c8a1d95",
   "metadata": {},
   "outputs": [],
   "source": [
    "target_column_train = ['shop_tag']\n",
    "predictors_train = list(set(list(train.columns))-set(target_column_train))\n",
    "\n",
    "X_train = train[predictors_train].values\n",
    "y_train = train[target_column_train].values\n",
    "\n",
    "print(X_train.shape)\n",
    "print(y_train.shape)"
   ]
  },
  {
   "cell_type": "code",
   "execution_count": null,
   "id": "e945568e-e0a9-4133-b507-b48953a32114",
   "metadata": {},
   "outputs": [],
   "source": [
    "target_column_test = ['shop_tag'] \n",
    "predictors_test = list(set(list(test.columns))-set(target_column_test))\n",
    "\n",
    "X_test = test[predictors_test].values\n",
    "y_test = test[target_column_test].values\n",
    "\n",
    "print(X_test.shape)\n",
    "print(y_test.shape)"
   ]
  },
  {
   "cell_type": "code",
   "execution_count": null,
   "id": "5c318cae-9e7c-4bae-bbf1-d597fb20bfc4",
   "metadata": {},
   "outputs": [],
   "source": [
    "import gc\n",
    "del train\n",
    "del test\n",
    "gc.collect()"
   ]
  },
  {
   "cell_type": "code",
   "execution_count": null,
   "id": "6c3245e6-38e8-4be5-b6a5-1a2c860bc4d4",
   "metadata": {},
   "outputs": [],
   "source": [
    "print(X_train.shape)\n",
    "print(y_train.shape)\n",
    "print(X_test.shape)\n",
    "print(y_test.shape)\n",
    "print(X_train.shape[1])"
   ]
  },
  {
   "cell_type": "code",
   "execution_count": null,
   "id": "ac1f67a1-5d1d-4ee2-b1da-7eacbfc9491c",
   "metadata": {},
   "outputs": [],
   "source": []
  },
  {
   "cell_type": "code",
   "execution_count": null,
   "id": "1688a58f-e5af-4751-8c66-e65ec238c110",
   "metadata": {},
   "outputs": [],
   "source": [
    "X_train1 = np.reshape(X_train, (X_train.shape[0], X_train.shape[1], 1))"
   ]
  },
  {
   "cell_type": "code",
   "execution_count": null,
   "id": "5b7542ed-695d-437b-8762-eda6c5475cb9",
   "metadata": {},
   "outputs": [],
   "source": [
    "X_train1.shape"
   ]
  },
  {
   "cell_type": "code",
   "execution_count": null,
   "id": "5a8c5295-871e-415a-9abb-15fbd39456c8",
   "metadata": {},
   "outputs": [],
   "source": [
    "y_train1 = np.reshape(y_train, (y_train.shape[0], y_train.shape[1], 1))"
   ]
  },
  {
   "cell_type": "code",
   "execution_count": null,
   "id": "ce3c1c3d-8569-4f59-85ec-e5e380a70b10",
   "metadata": {},
   "outputs": [],
   "source": [
    "y_train1.shape"
   ]
  },
  {
   "cell_type": "code",
   "execution_count": null,
   "id": "e383ddb6-7249-4d38-9d23-7e71f8b6b78e",
   "metadata": {},
   "outputs": [],
   "source": [
    "X_test1 = np.reshape(X_test, (X_test.shape[0], X_test.shape[1], 1))\n",
    "X_test1.shape"
   ]
  },
  {
   "cell_type": "code",
   "execution_count": null,
   "id": "e63b72ca-8dc5-49d3-87c9-94da7fcfac10",
   "metadata": {},
   "outputs": [],
   "source": [
    "y_test1 = np.reshape(y_test, (y_test.shape[0], y_test.shape[1], 1))\n",
    "y_test1.shape"
   ]
  },
  {
   "cell_type": "code",
   "execution_count": null,
   "id": "0ef252ab-927e-4e11-a2b1-d550cccad152",
   "metadata": {},
   "outputs": [],
   "source": []
  },
  {
   "cell_type": "code",
   "execution_count": null,
   "id": "d58f9b5d-8b12-4747-959f-1f905891a604",
   "metadata": {},
   "outputs": [],
   "source": [
    "pre_train = pre_train.values\n",
    "pre_train = np.reshape(pre_train, (pre_train.shape[0], pre_train.shape[1], 1))\n",
    "pre_train.shape"
   ]
  },
  {
   "cell_type": "code",
   "execution_count": null,
   "id": "3e870da9-0abc-44ea-8672-93860645f2ce",
   "metadata": {},
   "outputs": [],
   "source": []
  },
  {
   "cell_type": "code",
   "execution_count": null,
   "id": "eaf69e5a-9d82-4ad8-978f-d14bac417cb7",
   "metadata": {},
   "outputs": [],
   "source": [
    "X_train1.shape[1]"
   ]
  },
  {
   "cell_type": "code",
   "execution_count": null,
   "id": "cb69ad48-5aa6-44ce-bea7-829b9007ac87",
   "metadata": {},
   "outputs": [],
   "source": [
    "# X_train[..., None].shape"
   ]
  },
  {
   "cell_type": "code",
   "execution_count": null,
   "id": "a045e33a-0544-4a25-b2eb-316c1ea90835",
   "metadata": {},
   "outputs": [],
   "source": [
    "# activation = 'softmax'應用於多類分類，而'sigmoid'用於二元分類。"
   ]
  },
  {
   "cell_type": "code",
   "execution_count": null,
   "id": "ef860621-3f9e-4d0c-adc7-72f99dffce5f",
   "metadata": {},
   "outputs": [],
   "source": [
    "model = Sequential()\n",
    "model.add(LSTM(units=50, return_sequences=True, input_shape=(X_train.shape[1],1)))\n",
    "model.add(LSTM(units=50))\n",
    "model.add(Dense(49, activation='softmax'))\n",
    "\n",
    "# model = Sequential()\n",
    "# model.add(LSTM(100, input_shape=(X_train1.shape[1],1 ), return_sequences=True))\n",
    "# model.add(Dropout(0.2))\n",
    "# model.add(LSTM(200))\n",
    "# model.add(Dropout(0.2))\n",
    "# model.add(Dense(49, activation='softmax'))\n",
    "\n",
    "model.compile(loss='sparse_categorical_crossentropy', optimizer='adam', metrics = ['accuracy'])\n",
    "model.summary()"
   ]
  },
  {
   "cell_type": "code",
   "execution_count": null,
   "id": "e152c8cb-9670-4885-8885-2bc5f6608205",
   "metadata": {},
   "outputs": [],
   "source": [
    "X_train.shape"
   ]
  },
  {
   "cell_type": "code",
   "execution_count": null,
   "id": "1bded4ab-aee4-485c-852c-acef664cfaf3",
   "metadata": {},
   "outputs": [],
   "source": [
    "y_train.shape"
   ]
  },
  {
   "cell_type": "code",
   "execution_count": null,
   "id": "81e10bdb-02fc-4332-aae9-83c115126b19",
   "metadata": {},
   "outputs": [],
   "source": [
    "y_train[0:300].shape"
   ]
  },
  {
   "cell_type": "code",
   "execution_count": null,
   "id": "ed6ac0ed-80da-47ce-aafb-2e003b64cc6d",
   "metadata": {},
   "outputs": [],
   "source": []
  },
  {
   "cell_type": "code",
   "execution_count": null,
   "id": "1cb159a2-9e60-4d3f-9502-ea8c43c5a017",
   "metadata": {},
   "outputs": [],
   "source": [
    "np.reshape(X_train, (X_train.shape[0], 1, X_train.shape[1]))[0:300].shape"
   ]
  },
  {
   "cell_type": "code",
   "execution_count": null,
   "id": "895d1ac6-6207-44bc-89c0-2030b8f14d6d",
   "metadata": {},
   "outputs": [],
   "source": [
    "np.reshape(y_train, (y_train.shape[0], 1, y_train.shape[1]))[0:300].shape"
   ]
  },
  {
   "cell_type": "code",
   "execution_count": null,
   "id": "adccc53e-6807-42c7-8d6f-13d1a087b939",
   "metadata": {},
   "outputs": [],
   "source": []
  },
  {
   "cell_type": "code",
   "execution_count": null,
   "id": "99bc7cf5-b0fc-476f-8a65-fd7bf8ed639c",
   "metadata": {},
   "outputs": [],
   "source": []
  },
  {
   "cell_type": "code",
   "execution_count": null,
   "id": "5ab8dd9e-c3a8-4c36-8211-218164fffc1d",
   "metadata": {},
   "outputs": [],
   "source": [
    "# tf.config.experimental.list_physical_devices('GPU')"
   ]
  },
  {
   "cell_type": "code",
   "execution_count": null,
   "id": "aaa9616e-89d0-4feb-8e19-4c93e04e7f6b",
   "metadata": {},
   "outputs": [],
   "source": [
    "# # # from tensorflow.compat.v1 import ConfigProto\n",
    "# # # from tensorflow.compat.v1 import InteractiveSession\n",
    "# # # config = ConfigProto()\n",
    "# # # config.gpu_options.allow_growth = True\n",
    "# # # session = InteractiveSession(config=config)\n",
    "\n",
    "\n",
    "# gpu_devices = tf.config.experimental.list_physical_devices('GPU')\n",
    "# for device in gpu_devices:\n",
    "#     tf.config.experimental.set_memory_growth(device, True)\n",
    "    "
   ]
  },
  {
   "cell_type": "code",
   "execution_count": null,
   "id": "470c66b7-ef51-4439-b544-d2399a0d7515",
   "metadata": {},
   "outputs": [],
   "source": [
    "# from tensorflow.compat.v1 import ConfigProto\n",
    "# from tensorflow.compat.v1 import InteractiveSession\n",
    "\n",
    "# config = ConfigProto()\n",
    "# config.gpu_options.allow_growth = True\n",
    "# session = InteractiveSession(config=config)"
   ]
  },
  {
   "cell_type": "code",
   "execution_count": null,
   "id": "d0ce05b0-b4ee-4c26-a7f7-c8284c36d0d8",
   "metadata": {},
   "outputs": [],
   "source": [
    "# import tensorflow as tf \n",
    "model.fit(X_train1[0:2000000], y_train1[0:2000000], epochs=1, batch_size=1, verbose=1)\n",
    "# model.fit(X_train1[0:300],y_train1[0:300], validation_data = (X_test1, y_test1),\n",
    "#           batch_size=1, epochs=1)"
   ]
  },
  {
   "cell_type": "code",
   "execution_count": null,
   "id": "23335f9e-c7aa-4b8c-8818-9dc94f170e92",
   "metadata": {},
   "outputs": [],
   "source": [
    "# 模型預測\n",
    "predictions = model.predict(pre_train)"
   ]
  },
  {
   "cell_type": "code",
   "execution_count": null,
   "id": "6815e81a-81a2-461e-b252-abe67458008f",
   "metadata": {},
   "outputs": [],
   "source": [
    "len(predictions)"
   ]
  },
  {
   "cell_type": "code",
   "execution_count": null,
   "id": "85eb5f86-e6c9-4773-b505-c51eff80b093",
   "metadata": {},
   "outputs": [],
   "source": [
    "len(predictions[0])"
   ]
  },
  {
   "cell_type": "code",
   "execution_count": null,
   "id": "45ef94de-bb27-439c-86a1-bae27b34f51b",
   "metadata": {},
   "outputs": [],
   "source": [
    "# 按降序獲取前 n 個結果\n",
    "best_n = np.argsort(-predictions, axis=1)[:, :49]\n",
    "best_n"
   ]
  },
  {
   "cell_type": "code",
   "execution_count": null,
   "id": "3e645e90-a495-483f-80ae-5c0fc4124803",
   "metadata": {},
   "outputs": [],
   "source": [
    "# 建立best_predictions_final來儲存前三高的預測值\n",
    "best_predictions_final = np.zeros((len(best_n), 3), dtype=int)"
   ]
  },
  {
   "cell_type": "code",
   "execution_count": null,
   "id": "97df3fde-9ffb-40bb-932f-99be9b80b49d",
   "metadata": {},
   "outputs": [],
   "source": [
    "# 過濾16個前三高的標籤出來\n",
    "for a in range(len(best_n)):\n",
    "    sum = 0\n",
    "    for i in range(49): \n",
    "        if (best_n[a, i] == [2,6,10,12,13,15,18,19,21,22,25,26,39,37,39,48]).any():\n",
    "            best_predictions_final[a, sum] = int(best_n[a, i])\n",
    "            sum += 1 \n",
    "        if sum == 3: \n",
    "            break"
   ]
  },
  {
   "cell_type": "code",
   "execution_count": null,
   "id": "e570b46c-3f07-4bc3-b9b2-4d655ed95acd",
   "metadata": {},
   "outputs": [],
   "source": [
    "submission = pd.DataFrame({ 'chid':predict.chid,'top1':best_predictions_final[0:len(best_predictions_final),0] , 'top2':best_predictions_final[0:len(best_predictions_final),1] , 'top3':best_predictions_final[0:len(best_predictions_final),2] })"
   ]
  },
  {
   "cell_type": "code",
   "execution_count": null,
   "id": "40f44f26-649a-4583-a127-de4aa3a6a150",
   "metadata": {},
   "outputs": [],
   "source": [
    "filename = 'submission-不砍欄位.csv'\n",
    "submission.to_csv(filename,index=False)\n",
    "print(submission)\n",
    "print('Saved file: ' + filename)"
   ]
  },
  {
   "cell_type": "code",
   "execution_count": null,
   "id": "49f6629a-29bc-4659-a4ab-7cc6431bd720",
   "metadata": {},
   "outputs": [],
   "source": [
    "# 保存模型\n",
    "model.save('LSTM_model_all-不砍欄位-1.h5') "
   ]
  },
  {
   "cell_type": "code",
   "execution_count": null,
   "id": "7c3d6172-e514-4617-8bac-e5fc0397ea28",
   "metadata": {},
   "outputs": [],
   "source": []
  },
  {
   "cell_type": "code",
   "execution_count": null,
   "id": "24d68418-2551-40ad-897a-9b7e8be58d09",
   "metadata": {},
   "outputs": [],
   "source": []
  },
  {
   "cell_type": "code",
   "execution_count": null,
   "id": "22b59ba9-33d2-4275-9fb4-63e1c0681faf",
   "metadata": {},
   "outputs": [],
   "source": []
  },
  {
   "cell_type": "code",
   "execution_count": null,
   "id": "4cf0f4d7-3a2a-45b0-a19d-2139cf4d75ec",
   "metadata": {},
   "outputs": [],
   "source": []
  }
 ],
 "metadata": {
  "kernelspec": {
   "display_name": "Python 3 (ipykernel)",
   "language": "python",
   "name": "python3"
  },
  "language_info": {
   "codemirror_mode": {
    "name": "ipython",
    "version": 3
   },
   "file_extension": ".py",
   "mimetype": "text/x-python",
   "name": "python",
   "nbconvert_exporter": "python",
   "pygments_lexer": "ipython3",
   "version": "3.7.11"
  }
 },
 "nbformat": 4,
 "nbformat_minor": 5
}
